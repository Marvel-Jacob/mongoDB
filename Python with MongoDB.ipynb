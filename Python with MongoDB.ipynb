{
 "cells": [
  {
   "cell_type": "code",
   "execution_count": 1,
   "metadata": {},
   "outputs": [],
   "source": [
    "import pandas as pd\n",
    "import numpy as np\n",
    "import pymongo\n",
    "import tweepy"
   ]
  },
  {
   "cell_type": "code",
   "execution_count": 3,
   "metadata": {},
   "outputs": [],
   "source": [
    "def twitter_authorise():\n",
    "    auth=tweepy.OAuthHandler(consumer_key,consumer_secret)\n",
    "    auth.set_access_token(access_token,access_secret)\n",
    "    api=tweepy.API(auth)\n",
    "    return api\n",
    "api=twitter_authorise()"
   ]
  },
  {
   "cell_type": "markdown",
   "metadata": {},
   "source": [
    "1. REST API\n",
    "    - Search Tweets from user timeline\n",
    "    - Search tweets using a hashtag or search term"
   ]
  },
  {
   "cell_type": "code",
   "execution_count": 4,
   "metadata": {},
   "outputs": [
    {
     "data": {
      "text/plain": [
       "100"
      ]
     },
     "execution_count": 4,
     "metadata": {},
     "output_type": "execute_result"
    }
   ],
   "source": [
    "modi_tweets=api.user_timeline('narendramodi',page=1,count=100)\n",
    "len(modi_tweets)"
   ]
  },
  {
   "cell_type": "code",
   "execution_count": 5,
   "metadata": {},
   "outputs": [],
   "source": [
    "# modi_tweets[0]"
   ]
  },
  {
   "cell_type": "code",
   "execution_count": 6,
   "metadata": {},
   "outputs": [
    {
     "data": {
      "text/plain": [
       "\"\\nfor page in range(1,3):\\n    tweets=api.user_timeline('narendramodi',page=page,count=200)\\n    for tweet in tweets:\\n        print(tweet.text)\\n\""
      ]
     },
     "execution_count": 6,
     "metadata": {},
     "output_type": "execute_result"
    }
   ],
   "source": [
    "'''\n",
    "for page in range(1,3):\n",
    "    tweets=api.user_timeline('narendramodi',page=page,count=200)\n",
    "    for tweet in tweets:\n",
    "        print(tweet.text)\n",
    "'''"
   ]
  },
  {
   "cell_type": "code",
   "execution_count": null,
   "metadata": {},
   "outputs": [],
   "source": []
  },
  {
   "cell_type": "code",
   "execution_count": 7,
   "metadata": {},
   "outputs": [
    {
     "data": {
      "text/plain": [
       "41"
      ]
     },
     "execution_count": 7,
     "metadata": {},
     "output_type": "execute_result"
    }
   ],
   "source": [
    "flipkart=api.search('#flipkart',count=1000)\n",
    "len(flipkart)"
   ]
  },
  {
   "cell_type": "code",
   "execution_count": 13,
   "metadata": {},
   "outputs": [
    {
     "data": {
      "text/plain": [
       "{'created_at': 'Sat Mar 09 11:20:46 +0000 2019',\n",
       " 'id': 1104341252307406853,\n",
       " 'id_str': '1104341252307406853',\n",
       " 'text': 'RT @Storefront_PWA: Here we come - top #eCommerce #PWAs! Discover the best implementations with outstanding results, introduced by brands s…',\n",
       " 'truncated': False,\n",
       " 'entities': {'hashtags': [{'text': 'eCommerce', 'indices': [39, 49]},\n",
       "   {'text': 'PWAs', 'indices': [50, 55]}],\n",
       "  'symbols': [],\n",
       "  'user_mentions': [{'screen_name': 'Storefront_PWA',\n",
       "    'name': 'Storefront Cloud',\n",
       "    'id': 1085121526624587776,\n",
       "    'id_str': '1085121526624587776',\n",
       "    'indices': [3, 18]}],\n",
       "  'urls': []},\n",
       " 'metadata': {'iso_language_code': 'en', 'result_type': 'recent'},\n",
       " 'source': '<a href=\"http://twitter.com/download/android\" rel=\"nofollow\">Twitter for Android</a>',\n",
       " 'in_reply_to_status_id': None,\n",
       " 'in_reply_to_status_id_str': None,\n",
       " 'in_reply_to_user_id': None,\n",
       " 'in_reply_to_user_id_str': None,\n",
       " 'in_reply_to_screen_name': None,\n",
       " 'user': {'id': 961932682493091840,\n",
       "  'id_str': '961932682493091840',\n",
       "  'name': 'Filip Rakowski',\n",
       "  'screen_name': 'filrakowski',\n",
       "  'location': 'Wrocław, Polska',\n",
       "  'description': 'Co-founder @VueStorefront  / Señor Frontend Developer @DivanteLtd /  Community Partner @vuejs / @VuejsPoland /  Speaker 🐋',\n",
       "  'url': 'https://t.co/0rjbLIetOw',\n",
       "  'entities': {'url': {'urls': [{'url': 'https://t.co/0rjbLIetOw',\n",
       "      'expanded_url': 'https://github.com/filrak',\n",
       "      'display_url': 'github.com/filrak',\n",
       "      'indices': [0, 23]}]},\n",
       "   'description': {'urls': []}},\n",
       "  'protected': False,\n",
       "  'followers_count': 1171,\n",
       "  'friends_count': 568,\n",
       "  'listed_count': 28,\n",
       "  'created_at': 'Fri Feb 09 11:59:58 +0000 2018',\n",
       "  'favourites_count': 6250,\n",
       "  'utc_offset': None,\n",
       "  'time_zone': None,\n",
       "  'geo_enabled': False,\n",
       "  'verified': False,\n",
       "  'statuses_count': 2178,\n",
       "  'lang': 'pl',\n",
       "  'contributors_enabled': False,\n",
       "  'is_translator': False,\n",
       "  'is_translation_enabled': False,\n",
       "  'profile_background_color': '000000',\n",
       "  'profile_background_image_url': 'http://abs.twimg.com/images/themes/theme1/bg.png',\n",
       "  'profile_background_image_url_https': 'https://abs.twimg.com/images/themes/theme1/bg.png',\n",
       "  'profile_background_tile': False,\n",
       "  'profile_image_url': 'http://pbs.twimg.com/profile_images/961933370048565249/tHK5ssm6_normal.jpg',\n",
       "  'profile_image_url_https': 'https://pbs.twimg.com/profile_images/961933370048565249/tHK5ssm6_normal.jpg',\n",
       "  'profile_banner_url': 'https://pbs.twimg.com/profile_banners/961932682493091840/1550329801',\n",
       "  'profile_link_color': '19CF86',\n",
       "  'profile_sidebar_border_color': '000000',\n",
       "  'profile_sidebar_fill_color': '000000',\n",
       "  'profile_text_color': '000000',\n",
       "  'profile_use_background_image': False,\n",
       "  'has_extended_profile': True,\n",
       "  'default_profile': False,\n",
       "  'default_profile_image': False,\n",
       "  'following': False,\n",
       "  'follow_request_sent': False,\n",
       "  'notifications': False,\n",
       "  'translator_type': 'none'},\n",
       " 'geo': None,\n",
       " 'coordinates': None,\n",
       " 'place': None,\n",
       " 'contributors': None,\n",
       " 'retweeted_status': {'created_at': 'Sat Mar 09 11:06:11 +0000 2019',\n",
       "  'id': 1104337582492733440,\n",
       "  'id_str': '1104337582492733440',\n",
       "  'text': 'Here we come - top #eCommerce #PWAs! Discover the best implementations with outstanding results, introduced by bran… https://t.co/OztsAHPAme',\n",
       "  'truncated': True,\n",
       "  'entities': {'hashtags': [{'text': 'eCommerce', 'indices': [19, 29]},\n",
       "    {'text': 'PWAs', 'indices': [30, 35]}],\n",
       "   'symbols': [],\n",
       "   'user_mentions': [],\n",
       "   'urls': [{'url': 'https://t.co/OztsAHPAme',\n",
       "     'expanded_url': 'https://twitter.com/i/web/status/1104337582492733440',\n",
       "     'display_url': 'twitter.com/i/web/status/1…',\n",
       "     'indices': [117, 140]}]},\n",
       "  'metadata': {'iso_language_code': 'en', 'result_type': 'recent'},\n",
       "  'source': '<a href=\"http://www.hubspot.com/\" rel=\"nofollow\">HubSpot</a>',\n",
       "  'in_reply_to_status_id': None,\n",
       "  'in_reply_to_status_id_str': None,\n",
       "  'in_reply_to_user_id': None,\n",
       "  'in_reply_to_user_id_str': None,\n",
       "  'in_reply_to_screen_name': None,\n",
       "  'user': {'id': 1085121526624587776,\n",
       "   'id_str': '1085121526624587776',\n",
       "   'name': 'Storefront Cloud',\n",
       "   'screen_name': 'Storefront_PWA',\n",
       "   'location': '',\n",
       "   'description': 'Mobile-first #eCommerce Platform that helps you build an engaging user experience across all devices. Improve your #UX without making changes to the #backend.',\n",
       "   'url': None,\n",
       "   'entities': {'description': {'urls': []}},\n",
       "   'protected': False,\n",
       "   'followers_count': 39,\n",
       "   'friends_count': 106,\n",
       "   'listed_count': 0,\n",
       "   'created_at': 'Tue Jan 15 10:28:27 +0000 2019',\n",
       "   'favourites_count': 104,\n",
       "   'utc_offset': None,\n",
       "   'time_zone': None,\n",
       "   'geo_enabled': False,\n",
       "   'verified': False,\n",
       "   'statuses_count': 27,\n",
       "   'lang': 'en',\n",
       "   'contributors_enabled': False,\n",
       "   'is_translator': False,\n",
       "   'is_translation_enabled': False,\n",
       "   'profile_background_color': 'F5F8FA',\n",
       "   'profile_background_image_url': None,\n",
       "   'profile_background_image_url_https': None,\n",
       "   'profile_background_tile': False,\n",
       "   'profile_image_url': 'http://pbs.twimg.com/profile_images/1085123134162915328/w0BS2X3o_normal.jpg',\n",
       "   'profile_image_url_https': 'https://pbs.twimg.com/profile_images/1085123134162915328/w0BS2X3o_normal.jpg',\n",
       "   'profile_banner_url': 'https://pbs.twimg.com/profile_banners/1085121526624587776/1547548703',\n",
       "   'profile_link_color': '1DA1F2',\n",
       "   'profile_sidebar_border_color': 'C0DEED',\n",
       "   'profile_sidebar_fill_color': 'DDEEF6',\n",
       "   'profile_text_color': '333333',\n",
       "   'profile_use_background_image': True,\n",
       "   'has_extended_profile': False,\n",
       "   'default_profile': True,\n",
       "   'default_profile_image': False,\n",
       "   'following': False,\n",
       "   'follow_request_sent': False,\n",
       "   'notifications': False,\n",
       "   'translator_type': 'none'},\n",
       "  'geo': None,\n",
       "  'coordinates': None,\n",
       "  'place': None,\n",
       "  'contributors': None,\n",
       "  'is_quote_status': False,\n",
       "  'retweet_count': 1,\n",
       "  'favorite_count': 2,\n",
       "  'favorited': False,\n",
       "  'retweeted': False,\n",
       "  'possibly_sensitive': False,\n",
       "  'lang': 'en'},\n",
       " 'is_quote_status': False,\n",
       " 'retweet_count': 1,\n",
       " 'favorite_count': 0,\n",
       " 'favorited': False,\n",
       " 'retweeted': False,\n",
       " 'lang': 'en'}"
      ]
     },
     "execution_count": 13,
     "metadata": {},
     "output_type": "execute_result"
    }
   ],
   "source": [
    "flipkart[0]._json"
   ]
  },
  {
   "cell_type": "markdown",
   "metadata": {},
   "source": [
    "## Connecting python with mongodb"
   ]
  },
  {
   "cell_type": "code",
   "execution_count": 8,
   "metadata": {},
   "outputs": [],
   "source": [
    "from pymongo import MongoClient\n",
    "client=MongoClient('localhost',27017)"
   ]
  },
  {
   "cell_type": "code",
   "execution_count": 9,
   "metadata": {},
   "outputs": [
    {
     "name": "stderr",
     "output_type": "stream",
     "text": [
      "C:\\Users\\Administrator\\Anaconda3\\envs\\tensorflow_env\\lib\\site-packages\\ipykernel_launcher.py:1: DeprecationWarning: database_names is deprecated. Use list_database_names instead.\n",
      "  \"\"\"Entry point for launching an IPython kernel.\n"
     ]
    },
    {
     "data": {
      "text/plain": [
       "['admin', 'config', 'local', 'tweets']"
      ]
     },
     "execution_count": 9,
     "metadata": {},
     "output_type": "execute_result"
    }
   ],
   "source": [
    "client.database_names()"
   ]
  },
  {
   "cell_type": "code",
   "execution_count": 10,
   "metadata": {},
   "outputs": [],
   "source": [
    "db=client.flipkart\n",
    "\n",
    "#creating a document containing key-value pair\n",
    "collection=db.test_tweets"
   ]
  },
  {
   "cell_type": "code",
   "execution_count": 14,
   "metadata": {},
   "outputs": [
    {
     "data": {
      "text/plain": [
       "<pymongo.results.InsertOneResult at 0x253d9fe9dc8>"
      ]
     },
     "execution_count": 14,
     "metadata": {},
     "output_type": "execute_result"
    }
   ],
   "source": [
    "tweet=flipkart[0]._json\n",
    "collection.insert_one(tweet)"
   ]
  },
  {
   "cell_type": "code",
   "execution_count": 15,
   "metadata": {},
   "outputs": [
    {
     "name": "stdout",
     "output_type": "stream",
     "text": [
      "{'_id': ObjectId('5c83a89a8909f728fc2eff9e')}\n",
      "{'_id': ObjectId('5c83a8ea8909f728fc2eff9f'), 'created_at': 'Sat Mar 09 11:20:46 +0000 2019', 'id': 1104341252307406853, 'id_str': '1104341252307406853', 'text': 'RT @Storefront_PWA: Here we come - top #eCommerce #PWAs! Discover the best implementations with outstanding results, introduced by brands s…', 'truncated': False, 'entities': {'hashtags': [{'text': 'eCommerce', 'indices': [39, 49]}, {'text': 'PWAs', 'indices': [50, 55]}], 'symbols': [], 'user_mentions': [{'screen_name': 'Storefront_PWA', 'name': 'Storefront Cloud', 'id': 1085121526624587776, 'id_str': '1085121526624587776', 'indices': [3, 18]}], 'urls': []}, 'metadata': {'iso_language_code': 'en', 'result_type': 'recent'}, 'source': '<a href=\"http://twitter.com/download/android\" rel=\"nofollow\">Twitter for Android</a>', 'in_reply_to_status_id': None, 'in_reply_to_status_id_str': None, 'in_reply_to_user_id': None, 'in_reply_to_user_id_str': None, 'in_reply_to_screen_name': None, 'user': {'id': 961932682493091840, 'id_str': '961932682493091840', 'name': 'Filip Rakowski', 'screen_name': 'filrakowski', 'location': 'Wrocław, Polska', 'description': 'Co-founder @VueStorefront  / Señor Frontend Developer @DivanteLtd /  Community Partner @vuejs / @VuejsPoland /  Speaker 🐋', 'url': 'https://t.co/0rjbLIetOw', 'entities': {'url': {'urls': [{'url': 'https://t.co/0rjbLIetOw', 'expanded_url': 'https://github.com/filrak', 'display_url': 'github.com/filrak', 'indices': [0, 23]}]}, 'description': {'urls': []}}, 'protected': False, 'followers_count': 1171, 'friends_count': 568, 'listed_count': 28, 'created_at': 'Fri Feb 09 11:59:58 +0000 2018', 'favourites_count': 6250, 'utc_offset': None, 'time_zone': None, 'geo_enabled': False, 'verified': False, 'statuses_count': 2178, 'lang': 'pl', 'contributors_enabled': False, 'is_translator': False, 'is_translation_enabled': False, 'profile_background_color': '000000', 'profile_background_image_url': 'http://abs.twimg.com/images/themes/theme1/bg.png', 'profile_background_image_url_https': 'https://abs.twimg.com/images/themes/theme1/bg.png', 'profile_background_tile': False, 'profile_image_url': 'http://pbs.twimg.com/profile_images/961933370048565249/tHK5ssm6_normal.jpg', 'profile_image_url_https': 'https://pbs.twimg.com/profile_images/961933370048565249/tHK5ssm6_normal.jpg', 'profile_banner_url': 'https://pbs.twimg.com/profile_banners/961932682493091840/1550329801', 'profile_link_color': '19CF86', 'profile_sidebar_border_color': '000000', 'profile_sidebar_fill_color': '000000', 'profile_text_color': '000000', 'profile_use_background_image': False, 'has_extended_profile': True, 'default_profile': False, 'default_profile_image': False, 'following': False, 'follow_request_sent': False, 'notifications': False, 'translator_type': 'none'}, 'geo': None, 'coordinates': None, 'place': None, 'contributors': None, 'retweeted_status': {'created_at': 'Sat Mar 09 11:06:11 +0000 2019', 'id': 1104337582492733440, 'id_str': '1104337582492733440', 'text': 'Here we come - top #eCommerce #PWAs! Discover the best implementations with outstanding results, introduced by bran… https://t.co/OztsAHPAme', 'truncated': True, 'entities': {'hashtags': [{'text': 'eCommerce', 'indices': [19, 29]}, {'text': 'PWAs', 'indices': [30, 35]}], 'symbols': [], 'user_mentions': [], 'urls': [{'url': 'https://t.co/OztsAHPAme', 'expanded_url': 'https://twitter.com/i/web/status/1104337582492733440', 'display_url': 'twitter.com/i/web/status/1…', 'indices': [117, 140]}]}, 'metadata': {'iso_language_code': 'en', 'result_type': 'recent'}, 'source': '<a href=\"http://www.hubspot.com/\" rel=\"nofollow\">HubSpot</a>', 'in_reply_to_status_id': None, 'in_reply_to_status_id_str': None, 'in_reply_to_user_id': None, 'in_reply_to_user_id_str': None, 'in_reply_to_screen_name': None, 'user': {'id': 1085121526624587776, 'id_str': '1085121526624587776', 'name': 'Storefront Cloud', 'screen_name': 'Storefront_PWA', 'location': '', 'description': 'Mobile-first #eCommerce Platform that helps you build an engaging user experience across all devices. Improve your #UX without making changes to the #backend.', 'url': None, 'entities': {'description': {'urls': []}}, 'protected': False, 'followers_count': 39, 'friends_count': 106, 'listed_count': 0, 'created_at': 'Tue Jan 15 10:28:27 +0000 2019', 'favourites_count': 104, 'utc_offset': None, 'time_zone': None, 'geo_enabled': False, 'verified': False, 'statuses_count': 27, 'lang': 'en', 'contributors_enabled': False, 'is_translator': False, 'is_translation_enabled': False, 'profile_background_color': 'F5F8FA', 'profile_background_image_url': None, 'profile_background_image_url_https': None, 'profile_background_tile': False, 'profile_image_url': 'http://pbs.twimg.com/profile_images/1085123134162915328/w0BS2X3o_normal.jpg', 'profile_image_url_https': 'https://pbs.twimg.com/profile_images/1085123134162915328/w0BS2X3o_normal.jpg', 'profile_banner_url': 'https://pbs.twimg.com/profile_banners/1085121526624587776/1547548703', 'profile_link_color': '1DA1F2', 'profile_sidebar_border_color': 'C0DEED', 'profile_sidebar_fill_color': 'DDEEF6', 'profile_text_color': '333333', 'profile_use_background_image': True, 'has_extended_profile': False, 'default_profile': True, 'default_profile_image': False, 'following': False, 'follow_request_sent': False, 'notifications': False, 'translator_type': 'none'}, 'geo': None, 'coordinates': None, 'place': None, 'contributors': None, 'is_quote_status': False, 'retweet_count': 1, 'favorite_count': 2, 'favorited': False, 'retweeted': False, 'possibly_sensitive': False, 'lang': 'en'}, 'is_quote_status': False, 'retweet_count': 1, 'favorite_count': 0, 'favorited': False, 'retweeted': False, 'lang': 'en'}\n"
     ]
    }
   ],
   "source": [
    "for tweet in collection.find():\n",
    "    print(tweet)"
   ]
  },
  {
   "cell_type": "code",
   "execution_count": 18,
   "metadata": {},
   "outputs": [],
   "source": [
    "for tweet in flipkart[1:]:\n",
    "    collection.insert_one(tweet._json)"
   ]
  },
  {
   "cell_type": "code",
   "execution_count": 22,
   "metadata": {},
   "outputs": [
    {
     "data": {
      "text/plain": [
       "41"
      ]
     },
     "execution_count": 22,
     "metadata": {},
     "output_type": "execute_result"
    }
   ],
   "source": [
    "tweets=api.search('#niravmodi',count=1000)\n",
    "len(flipkart)"
   ]
  },
  {
   "cell_type": "code",
   "execution_count": 23,
   "metadata": {},
   "outputs": [],
   "source": [
    "db=client.tweets\n",
    "collection=db.niravmodi\n",
    "for tweet in collection.find({'sentiment':'Positive'}):\n",
    "    print(tweet)\n",
    "    print('__________')"
   ]
  },
  {
   "cell_type": "raw",
   "metadata": {},
   "source": [
    "use this code to run,\n",
    "python \"c:\\Users\\Administrator\\Desktop\\Term 3\\Unstructured Data\\Twitter Streaming API.py\""
   ]
  },
  {
   "cell_type": "code",
   "execution_count": null,
   "metadata": {},
   "outputs": [],
   "source": []
  },
  {
   "cell_type": "code",
   "execution_count": null,
   "metadata": {},
   "outputs": [],
   "source": []
  },
  {
   "cell_type": "code",
   "execution_count": null,
   "metadata": {},
   "outputs": [],
   "source": []
  },
  {
   "cell_type": "code",
   "execution_count": null,
   "metadata": {},
   "outputs": [],
   "source": []
  },
  {
   "cell_type": "code",
   "execution_count": null,
   "metadata": {},
   "outputs": [],
   "source": []
  },
  {
   "cell_type": "code",
   "execution_count": null,
   "metadata": {},
   "outputs": [],
   "source": []
  },
  {
   "cell_type": "code",
   "execution_count": null,
   "metadata": {},
   "outputs": [],
   "source": []
  },
  {
   "cell_type": "code",
   "execution_count": null,
   "metadata": {},
   "outputs": [],
   "source": []
  },
  {
   "cell_type": "code",
   "execution_count": null,
   "metadata": {},
   "outputs": [],
   "source": []
  },
  {
   "cell_type": "code",
   "execution_count": null,
   "metadata": {},
   "outputs": [],
   "source": []
  },
  {
   "cell_type": "code",
   "execution_count": null,
   "metadata": {},
   "outputs": [],
   "source": []
  },
  {
   "cell_type": "code",
   "execution_count": null,
   "metadata": {},
   "outputs": [],
   "source": []
  },
  {
   "cell_type": "code",
   "execution_count": null,
   "metadata": {},
   "outputs": [],
   "source": []
  }
 ],
 "metadata": {
  "kernelspec": {
   "display_name": "Python 3",
   "language": "python",
   "name": "python3"
  },
  "language_info": {
   "codemirror_mode": {
    "name": "ipython",
    "version": 3
   },
   "file_extension": ".py",
   "mimetype": "text/x-python",
   "name": "python",
   "nbconvert_exporter": "python",
   "pygments_lexer": "ipython3",
   "version": "3.6.8"
  }
 },
 "nbformat": 4,
 "nbformat_minor": 2
}